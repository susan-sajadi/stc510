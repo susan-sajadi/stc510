{
  "nbformat": 4,
  "nbformat_minor": 0,
  "metadata": {
    "colab": {
      "name": "Module3Project.ipynb",
      "provenance": [],
      "authorship_tag": "ABX9TyMIVh02dwyMx8iPhh+Vo84F",
      "include_colab_link": true
    },
    "kernelspec": {
      "name": "python3",
      "display_name": "Python 3"
    }
  },
  "cells": [
    {
      "cell_type": "markdown",
      "metadata": {
        "id": "view-in-github",
        "colab_type": "text"
      },
      "source": [
        "<a href=\"https://colab.research.google.com/github/susan-sajadi/stc510/blob/master/Module3Project.ipynb\" target=\"_parent\"><img src=\"https://colab.research.google.com/assets/colab-badge.svg\" alt=\"Open In Colab\"/></a>"
      ]
    },
    {
      "cell_type": "markdown",
      "metadata": {
        "id": "rUtWTgyPEqg_"
      },
      "source": [
        "**Module 3 Project**\n",
        "Prompt: We appreciated your help in stepping in during a bit of an exigent situation. We have a bit calmer of a task for you and one suited to a \"Sun Devil.\" We have some basic crime data for Phoenix (here (Links to an external site.)) and we need to make better sense of it. We want to know where different kinds of crimes are occurring, in which areas crime is growing fastest (or dropping fastest), and whether certain crimes are more common in certain areas of the city. Basically, we don't need maps or anything at this stage, just some data grouped by location (either the type of location or the zip codes) and some trend data.\n",
        "\n",
        "I mean, if you have the time for a bit of a challenge, we would love for you to bring in some other data to help draw a better picture around this. Are there some factors that affect the crime rate? If there are, we could see if there were ways to see where crime was more likely. We might even ask you to head up our new Pre-Crime unit in the Valley.\n",
        "\n",
        "The goal is to find basic trends in this data set: \n",
        "-Grouping crimes by location type or by zip code (or groups of zip codes)--done\n",
        ".\n",
        "Or, on the contrary, looking at types of crimes and where they are most common. --done\n",
        "Would be good to know which areas have the fastest growing and shrinking crime rates.--\n",
        "Might even be worth grouping crimes by \n",
        "violent and non-violent?--only non violent crime is drug, so this was completed. \n"
      ]
    },
    {
      "cell_type": "code",
      "metadata": {
        "id": "amLh8-w4E0DG"
      },
      "source": [
        "import pandas as pd\n",
        "import numpy as np\n",
        "import matplotlib.pyplot as plt\n",
        "from datetime import date\n"
      ],
      "execution_count": 114,
      "outputs": []
    },
    {
      "cell_type": "code",
      "metadata": {
        "colab": {
          "base_uri": "https://localhost:8080/"
        },
        "id": "4j_iScp7FM22",
        "outputId": "dd1a5524-ffba-455b-bd4c-b00c8af01a48"
      },
      "source": [
        "crimedata = pd.read_csv('phoenixdata.csv')"
      ],
      "execution_count": 42,
      "outputs": [
        {
          "output_type": "stream",
          "text": [
            "/usr/local/lib/python3.6/dist-packages/IPython/core/interactiveshell.py:2718: DtypeWarning: Columns (0) have mixed types.Specify dtype option on import or set low_memory=False.\n",
            "  interactivity=interactivity, compiler=compiler, result=result)\n"
          ],
          "name": "stderr"
        }
      ]
    },
    {
      "cell_type": "code",
      "metadata": {
        "id": "KUjXOQLZODpz"
      },
      "source": [
        "spacefreecol = crimedata.columns.str.strip().str.replace('\\s+', '_')"
      ],
      "execution_count": 51,
      "outputs": []
    },
    {
      "cell_type": "markdown",
      "metadata": {
        "id": "6zAEUQU-Tpre"
      },
      "source": [
        "I was having some issues with the spacing so added this to put _ in titles instead of spaces to make it easier. "
      ]
    },
    {
      "cell_type": "code",
      "metadata": {
        "id": "45nhpbqaPMFB"
      },
      "source": [
        "crimedata.columns = spacefreecol"
      ],
      "execution_count": 52,
      "outputs": []
    },
    {
      "cell_type": "code",
      "metadata": {
        "colab": {
          "base_uri": "https://localhost:8080/",
          "height": 609
        },
        "id": "GUhs-DupF82a",
        "outputId": "f1bc6c8f-86f8-4278-c2e3-95656b97b9ee"
      },
      "source": [
        "crimedata"
      ],
      "execution_count": 53,
      "outputs": [
        {
          "output_type": "execute_result",
          "data": {
            "text/html": [
              "<div>\n",
              "<style scoped>\n",
              "    .dataframe tbody tr th:only-of-type {\n",
              "        vertical-align: middle;\n",
              "    }\n",
              "\n",
              "    .dataframe tbody tr th {\n",
              "        vertical-align: top;\n",
              "    }\n",
              "\n",
              "    .dataframe thead th {\n",
              "        text-align: right;\n",
              "    }\n",
              "</style>\n",
              "<table border=\"1\" class=\"dataframe\">\n",
              "  <thead>\n",
              "    <tr style=\"text-align: right;\">\n",
              "      <th></th>\n",
              "      <th>INC_NUMBER</th>\n",
              "      <th>OCCURRED_ON</th>\n",
              "      <th>OCCURRED_TO</th>\n",
              "      <th>UCR_CRIME_CATEGORY</th>\n",
              "      <th>100_BLOCK_ADDR</th>\n",
              "      <th>ZIP</th>\n",
              "      <th>PREMISE_TYPE</th>\n",
              "    </tr>\n",
              "  </thead>\n",
              "  <tbody>\n",
              "    <tr>\n",
              "      <th>0</th>\n",
              "      <td>201500002168686</td>\n",
              "      <td>2015-11-01T00:00:00</td>\n",
              "      <td>2015-11-11T09:30:00</td>\n",
              "      <td>LARCENY-THEFT</td>\n",
              "      <td>14XX E HIGHLAND AVE</td>\n",
              "      <td>85014.0</td>\n",
              "      <td>PARKING LOT</td>\n",
              "    </tr>\n",
              "    <tr>\n",
              "      <th>1</th>\n",
              "      <td>201500002103724</td>\n",
              "      <td>2015-11-01T00:00:00</td>\n",
              "      <td>2015-11-01T15:21:00</td>\n",
              "      <td>DRUG OFFENSE</td>\n",
              "      <td>54XX W INDIAN SCHOOL RD</td>\n",
              "      <td>85031.0</td>\n",
              "      <td>APARTMENT</td>\n",
              "    </tr>\n",
              "    <tr>\n",
              "      <th>2</th>\n",
              "      <td>201600000594484</td>\n",
              "      <td>2015-11-01T00:00:00</td>\n",
              "      <td>NaN</td>\n",
              "      <td>RAPE</td>\n",
              "      <td>13XX E ALMERIA RD</td>\n",
              "      <td>85006.0</td>\n",
              "      <td>SINGLE FAMILY HOUSE</td>\n",
              "    </tr>\n",
              "    <tr>\n",
              "      <th>3</th>\n",
              "      <td>201500002102327</td>\n",
              "      <td>2015-11-01T00:00:00</td>\n",
              "      <td>2015-11-01T09:00:00</td>\n",
              "      <td>LARCENY-THEFT</td>\n",
              "      <td>51XX N 15TH ST</td>\n",
              "      <td>85014.0</td>\n",
              "      <td>APARTMENT</td>\n",
              "    </tr>\n",
              "    <tr>\n",
              "      <th>4</th>\n",
              "      <td>201500002101405</td>\n",
              "      <td>2015-11-01T00:00:00</td>\n",
              "      <td>2015-11-01T05:00:00</td>\n",
              "      <td>MOTOR VEHICLE THEFT</td>\n",
              "      <td>102XX W MEDLOCK AVE</td>\n",
              "      <td>85307.0</td>\n",
              "      <td>SINGLE FAMILY HOUSE</td>\n",
              "    </tr>\n",
              "    <tr>\n",
              "      <th>...</th>\n",
              "      <td>...</td>\n",
              "      <td>...</td>\n",
              "      <td>...</td>\n",
              "      <td>...</td>\n",
              "      <td>...</td>\n",
              "      <td>...</td>\n",
              "      <td>...</td>\n",
              "    </tr>\n",
              "    <tr>\n",
              "      <th>342358</th>\n",
              "      <td>202100000143005</td>\n",
              "      <td>2021-01-26T23:00:00</td>\n",
              "      <td>NaN</td>\n",
              "      <td>LARCENY-THEFT</td>\n",
              "      <td>20XX W DEER VALLEY RD</td>\n",
              "      <td>85027.0</td>\n",
              "      <td>FENCED COMMERCIAL YARD</td>\n",
              "    </tr>\n",
              "    <tr>\n",
              "      <th>342359</th>\n",
              "      <td>202100000141859</td>\n",
              "      <td>2021-01-26T23:00:00</td>\n",
              "      <td>2021-01-27T05:00:00</td>\n",
              "      <td>LARCENY-THEFT</td>\n",
              "      <td>20XX E HARVARD ST</td>\n",
              "      <td>85006.0</td>\n",
              "      <td>VEHICLE</td>\n",
              "    </tr>\n",
              "    <tr>\n",
              "      <th>342360</th>\n",
              "      <td>202100000139107</td>\n",
              "      <td>2021-01-26T23:08:00</td>\n",
              "      <td>NaN</td>\n",
              "      <td>ROBBERY</td>\n",
              "      <td>184XX N 7TH ST</td>\n",
              "      <td>85022.0</td>\n",
              "      <td>CONVENIENCE MARKET / STORE</td>\n",
              "    </tr>\n",
              "    <tr>\n",
              "      <th>342361</th>\n",
              "      <td>202100000139182</td>\n",
              "      <td>2021-01-26T23:30:00</td>\n",
              "      <td>2021-01-26T23:34:00</td>\n",
              "      <td>AGGRAVATED ASSAULT</td>\n",
              "      <td>92XX N 11TH AVE</td>\n",
              "      <td>85021.0</td>\n",
              "      <td>VEHICLE</td>\n",
              "    </tr>\n",
              "    <tr>\n",
              "      <th>342362</th>\n",
              "      <td>202100000147374</td>\n",
              "      <td>2021-01-26T23:40:00</td>\n",
              "      <td>2021-01-26T23:41:00</td>\n",
              "      <td>BURGLARY</td>\n",
              "      <td>39XX W SOUTH MOUNTAIN AVE</td>\n",
              "      <td>85339.0</td>\n",
              "      <td>SCHOOL-COLLEGE/UNIVERSITY</td>\n",
              "    </tr>\n",
              "  </tbody>\n",
              "</table>\n",
              "<p>342363 rows × 7 columns</p>\n",
              "</div>"
            ],
            "text/plain": [
              "             INC_NUMBER  ...                PREMISE_TYPE\n",
              "0       201500002168686  ...                 PARKING LOT\n",
              "1       201500002103724  ...                   APARTMENT\n",
              "2       201600000594484  ...         SINGLE FAMILY HOUSE\n",
              "3       201500002102327  ...                   APARTMENT\n",
              "4       201500002101405  ...         SINGLE FAMILY HOUSE\n",
              "...                 ...  ...                         ...\n",
              "342358  202100000143005  ...      FENCED COMMERCIAL YARD\n",
              "342359  202100000141859  ...                     VEHICLE\n",
              "342360  202100000139107  ...  CONVENIENCE MARKET / STORE\n",
              "342361  202100000139182  ...                     VEHICLE\n",
              "342362  202100000147374  ...   SCHOOL-COLLEGE/UNIVERSITY\n",
              "\n",
              "[342363 rows x 7 columns]"
            ]
          },
          "metadata": {
            "tags": []
          },
          "execution_count": 53
        }
      ]
    },
    {
      "cell_type": "code",
      "metadata": {
        "colab": {
          "base_uri": "https://localhost:8080/"
        },
        "id": "yTDOhXPrGt9Y",
        "outputId": "c6476615-dd81-4b29-9306-179eecb197c9"
      },
      "source": [
        "crimedata.info()"
      ],
      "execution_count": 54,
      "outputs": [
        {
          "output_type": "stream",
          "text": [
            "<class 'pandas.core.frame.DataFrame'>\n",
            "RangeIndex: 342363 entries, 0 to 342362\n",
            "Data columns (total 7 columns):\n",
            " #   Column              Non-Null Count   Dtype  \n",
            "---  ------              --------------   -----  \n",
            " 0   INC_NUMBER          342363 non-null  object \n",
            " 1   OCCURRED_ON         341944 non-null  object \n",
            " 2   OCCURRED_TO         230549 non-null  object \n",
            " 3   UCR_CRIME_CATEGORY  342363 non-null  object \n",
            " 4   100_BLOCK_ADDR      342363 non-null  object \n",
            " 5   ZIP                 342357 non-null  float64\n",
            " 6   PREMISE_TYPE        340387 non-null  object \n",
            "dtypes: float64(1), object(6)\n",
            "memory usage: 18.3+ MB\n"
          ],
          "name": "stdout"
        }
      ]
    },
    {
      "cell_type": "code",
      "metadata": {
        "colab": {
          "base_uri": "https://localhost:8080/"
        },
        "id": "LbDfIjT6HGMq",
        "outputId": "5cc222c7-955c-458b-f022-7d4c80c576af"
      },
      "source": [
        "crimedata.ZIP.value_counts()"
      ],
      "execution_count": 55,
      "outputs": [
        {
          "output_type": "execute_result",
          "data": {
            "text/plain": [
              "85015.0    17484\n",
              "85008.0    16145\n",
              "85009.0    15332\n",
              "85051.0    15296\n",
              "85041.0    15070\n",
              "           ...  \n",
              "85239.0        1\n",
              "85209.0        1\n",
              "85268.0        1\n",
              "85266.0        1\n",
              "85259.0        1\n",
              "Name: ZIP, Length: 112, dtype: int64"
            ]
          },
          "metadata": {
            "tags": []
          },
          "execution_count": 55
        }
      ]
    },
    {
      "cell_type": "markdown",
      "metadata": {
        "id": "XGWiVqtqHs2V"
      },
      "source": [
        "Note to self: Titles and labels are case sensitive. \n",
        "\n",
        "It appears that based on this data, the top 5 zip codes for crime in Phoenix are: 85015, 85008, 85009, 85041, and 85051."
      ]
    },
    {
      "cell_type": "code",
      "metadata": {
        "colab": {
          "base_uri": "https://localhost:8080/"
        },
        "id": "hItZrO1LIPWJ",
        "outputId": "77b09669-5d19-43ad-ad76-9a9a213d2057"
      },
      "source": [
        "crimedata['UCR CRIME CATEGORY'].value_counts()"
      ],
      "execution_count": 16,
      "outputs": [
        {
          "output_type": "execute_result",
          "data": {
            "text/plain": [
              "LARCENY-THEFT                            140967\n",
              "BURGLARY                                  43447\n",
              "MOTOR VEHICLE THEFT                       29108\n",
              "DRUG OFFENSE                              23309\n",
              "AGGRAVATED ASSAULT                        21047\n",
              "ROBBERY                                   11634\n",
              "RAPE                                       4171\n",
              "ARSON                                      1745\n",
              "MURDER AND NON-NEGLIGENT MANSLAUGHTER       558\n",
              "Name: UCR CRIME CATEGORY, dtype: int64"
            ]
          },
          "metadata": {
            "tags": []
          },
          "execution_count": 16
        }
      ]
    },
    {
      "cell_type": "code",
      "metadata": {
        "colab": {
          "base_uri": "https://localhost:8080/"
        },
        "id": "w-uJcqgBSJIt",
        "outputId": "dfb575e8-5d24-4ba2-a149-db201ff7423d"
      },
      "source": [
        "crimedata[crimedata.UCR_CRIME_CATEGORY == 'DRUG OFFENSE'].ZIP.value_counts()"
      ],
      "execution_count": 59,
      "outputs": [
        {
          "output_type": "execute_result",
          "data": {
            "text/plain": [
              "85017.0    1922\n",
              "85009.0    1862\n",
              "85051.0    1741\n",
              "85008.0    1622\n",
              "85015.0    1583\n",
              "           ... \n",
              "85233.0       1\n",
              "85226.0       1\n",
              "85210.0       1\n",
              "85208.0       1\n",
              "85201.0       1\n",
              "Name: ZIP, Length: 88, dtype: int64"
            ]
          },
          "metadata": {
            "tags": []
          },
          "execution_count": 59
        }
      ]
    },
    {
      "cell_type": "markdown",
      "metadata": {
        "id": "GjxOOMhITLYB"
      },
      "source": [
        "This shows that in 85017, 85009, 85051,85008,85015 there are the most non-violent offenses (drug offenses)."
      ]
    },
    {
      "cell_type": "code",
      "metadata": {
        "colab": {
          "base_uri": "https://localhost:8080/"
        },
        "id": "ErjfoAKhSS5C",
        "outputId": "b8207f42-5fc0-44e8-8a15-f709c0ea3cbb"
      },
      "source": [
        "crimedata.OCCURRED_ON.value_counts()"
      ],
      "execution_count": 65,
      "outputs": [
        {
          "output_type": "execute_result",
          "data": {
            "text/plain": [
              "2019-04-01T00:00:00    61\n",
              "2020-01-01T00:00:00    53\n",
              "2020-03-01T00:00:00    51\n",
              "2019-08-01T00:00:00    51\n",
              "2019-01-01T00:00:00    46\n",
              "                       ..\n",
              "2019-03-16T07:11:00     1\n",
              "2015-12-28T18:18:00     1\n",
              "2016-03-02T00:21:00     1\n",
              "2015-11-02T12:50:00     1\n",
              "2019-10-26T22:15:00     1\n",
              "Name: OCCURRED_ON, Length: 216979, dtype: int64"
            ]
          },
          "metadata": {
            "tags": []
          },
          "execution_count": 65
        }
      ]
    },
    {
      "cell_type": "markdown",
      "metadata": {
        "id": "jj--9vFOW1T2"
      },
      "source": [
        "It seems as if crime is increasing in Phoenix, as the highest crime days have been in the last couple of years. "
      ]
    },
    {
      "cell_type": "code",
      "metadata": {
        "id": "Tucz_AirW8vb"
      },
      "source": [
        "crimetype = crimedata.groupby('UCR_CRIME_CATEGORY')"
      ],
      "execution_count": 69,
      "outputs": []
    },
    {
      "cell_type": "code",
      "metadata": {
        "colab": {
          "base_uri": "https://localhost:8080/"
        },
        "id": "zrWGp5k0YHow",
        "outputId": "a556affa-6ab2-4e26-988d-482a79a68345"
      },
      "source": [
        "crimetype.ZIP.value_counts()"
      ],
      "execution_count": 76,
      "outputs": [
        {
          "output_type": "execute_result",
          "data": {
            "text/plain": [
              "UCR_CRIME_CATEGORY  ZIP    \n",
              "AGGRAVATED ASSAULT  85017.0    1449\n",
              "                    85015.0    1442\n",
              "                    85009.0    1436\n",
              "                    85008.0    1429\n",
              "                    85041.0    1273\n",
              "                               ... \n",
              "ROBBERY             85302.0       1\n",
              "                    85303.0       1\n",
              "                    85323.0       1\n",
              "                    85337.0       1\n",
              "                    85345.0       1\n",
              "Name: ZIP, Length: 648, dtype: int64"
            ]
          },
          "metadata": {
            "tags": []
          },
          "execution_count": 76
        }
      ]
    },
    {
      "cell_type": "markdown",
      "metadata": {
        "id": "pjunpJgQYiU3"
      },
      "source": [
        "Here we can see which Zip Codes have the most & least crime"
      ]
    },
    {
      "cell_type": "code",
      "metadata": {
        "colab": {
          "base_uri": "https://localhost:8080/"
        },
        "id": "QIrmeGkFZBc_",
        "outputId": "0ed60728-947c-4a11-91ba-1270aabcd74a"
      },
      "source": [
        "crimetype.OCCURRED_ON.value_counts()"
      ],
      "execution_count": 89,
      "outputs": [
        {
          "output_type": "execute_result",
          "data": {
            "text/plain": [
              "UCR_CRIME_CATEGORY  OCCURRED_ON        \n",
              "AGGRAVATED ASSAULT  2020-08-28T00:00:00    7\n",
              "                    2019-02-17T00:00:00    6\n",
              "                    2020-07-08T00:00:00    6\n",
              "                    2020-04-30T00:00:00    5\n",
              "                    2020-06-27T00:00:00    5\n",
              "                                          ..\n",
              "ROBBERY             2021-01-25T19:10:00    1\n",
              "                    2021-01-26T10:25:00    1\n",
              "                    2021-01-26T11:00:00    1\n",
              "                    2021-01-26T17:21:00    1\n",
              "                    2021-01-26T23:08:00    1\n",
              "Name: OCCURRED_ON, Length: 273888, dtype: int64"
            ]
          },
          "metadata": {
            "tags": []
          },
          "execution_count": 89
        }
      ]
    },
    {
      "cell_type": "markdown",
      "metadata": {
        "id": "BcniGeI6aN2v"
      },
      "source": [
        "It appears that in most categories, crime has increased in frequency in 2019 and 2020. "
      ]
    },
    {
      "cell_type": "code",
      "metadata": {
        "id": "bisIT2aoaVsA"
      },
      "source": [
        "zipcodes = crimedata.groupby('ZIP')"
      ],
      "execution_count": 80,
      "outputs": []
    },
    {
      "cell_type": "code",
      "metadata": {
        "colab": {
          "base_uri": "https://localhost:8080/"
        },
        "id": "bemT3MzzagFB",
        "outputId": "74240332-169c-45f7-b6e0-910def1e94a2"
      },
      "source": [
        "zipcodes.OCCURRED_ON.value_counts()"
      ],
      "execution_count": 96,
      "outputs": [
        {
          "output_type": "execute_result",
          "data": {
            "text/plain": [
              "ZIP      OCCURRED_ON        \n",
              "85003.0  2016-01-01T00:00:00    3\n",
              "         2019-01-18T00:00:00    3\n",
              "         2019-10-01T00:00:00    3\n",
              "         2019-11-12T00:00:00    3\n",
              "         2020-02-19T00:00:00    3\n",
              "                               ..\n",
              "85396.0  2018-08-07T09:13:00    1\n",
              "         2018-10-08T22:20:00    1\n",
              "         2018-11-13T20:11:00    1\n",
              "         2018-12-04T21:30:00    1\n",
              "         2019-07-28T12:08:00    1\n",
              "Name: OCCURRED_ON, Length: 330123, dtype: int64"
            ]
          },
          "metadata": {
            "tags": []
          },
          "execution_count": 96
        }
      ]
    },
    {
      "cell_type": "code",
      "metadata": {
        "colab": {
          "base_uri": "https://localhost:8080/"
        },
        "id": "V27ToNtecbu_",
        "outputId": "1f14d7ba-9509-4d23-bca2-834a90e9dd21"
      },
      "source": [
        "crimedata.OCCURRED_ON.value_counts()"
      ],
      "execution_count": 109,
      "outputs": [
        {
          "output_type": "execute_result",
          "data": {
            "text/plain": [
              "2019-04-01T00:00:00    61\n",
              "2020-01-01T00:00:00    53\n",
              "2020-03-01T00:00:00    51\n",
              "2019-08-01T00:00:00    51\n",
              "2019-01-01T00:00:00    46\n",
              "                       ..\n",
              "2019-03-16T07:11:00     1\n",
              "2015-12-28T18:18:00     1\n",
              "2016-03-02T00:21:00     1\n",
              "2015-11-02T12:50:00     1\n",
              "2019-10-26T22:15:00     1\n",
              "Name: OCCURRED_ON, Length: 216979, dtype: int64"
            ]
          },
          "metadata": {
            "tags": []
          },
          "execution_count": 109
        }
      ]
    },
    {
      "cell_type": "code",
      "metadata": {
        "id": "QCfXGG2FhrNL"
      },
      "source": [
        "crimedata['year'] = pd.DatetimeIndex(crimedata['OCCURRED_ON']).year"
      ],
      "execution_count": 117,
      "outputs": []
    },
    {
      "cell_type": "code",
      "metadata": {
        "colab": {
          "base_uri": "https://localhost:8080/"
        },
        "id": "y3hRz3eFjxcl",
        "outputId": "a90f71df-d614-44b9-b678-845390768193"
      },
      "source": [
        "crimedata.year.value_counts(sort=False)"
      ],
      "execution_count": 119,
      "outputs": [
        {
          "output_type": "execute_result",
          "data": {
            "text/plain": [
              "2015.0    10127\n",
              "2016.0    63233\n",
              "2017.0    66056\n",
              "2018.0    64859\n",
              "2019.0    68692\n",
              "2020.0    64424\n",
              "2021.0     4553\n",
              "Name: year, dtype: int64"
            ]
          },
          "metadata": {
            "tags": []
          },
          "execution_count": 119
        }
      ]
    },
    {
      "cell_type": "markdown",
      "metadata": {
        "id": "KtoNtsu9j7q8"
      },
      "source": [
        "Crim has incresed over time slightly. Since 2021 has just started obviously not much data is collected, and it seems the data must be truncated from 2015. "
      ]
    },
    {
      "cell_type": "code",
      "metadata": {
        "colab": {
          "base_uri": "https://localhost:8080/",
          "height": 282
        },
        "id": "v5BXexfykAO_",
        "outputId": "c204de3f-92ae-4145-9690-97270c672576"
      },
      "source": [
        "crimedata.year.value_counts(sort=False).plot()"
      ],
      "execution_count": 121,
      "outputs": [
        {
          "output_type": "execute_result",
          "data": {
            "text/plain": [
              "<matplotlib.axes._subplots.AxesSubplot at 0x7fb3291dcbe0>"
            ]
          },
          "metadata": {
            "tags": []
          },
          "execution_count": 121
        },
        {
          "output_type": "display_data",
          "data": {
            "image/png": "[encoded data removed]",
            "text/plain": [
              "<Figure size 432x288 with 1 Axes>"
            ]
          },
          "metadata": {
            "tags": [],
            "needs_background": "light"
          }
        }
      ]
    },
    {
      "cell_type": "code",
      "metadata": {
        "id": "byaKotxrme8n"
      },
      "source": [
        ""
      ],
      "execution_count": 130,
      "outputs": []
    },
    {
      "cell_type": "code",
      "metadata": {
        "id": "FmoPMbZmkMew"
      },
      "source": [
        "test = zipcodes.year.value_counts(sort = True)"
      ],
      "execution_count": 133,
      "outputs": []
    },
    {
      "cell_type": "markdown",
      "metadata": {
        "id": "NELOb8uGm_VW"
      },
      "source": [
        "Certain zipcodes however have seen an increase in crime, like 85003. \n",
        "\n",
        "\n"
      ]
    }
  ]
}