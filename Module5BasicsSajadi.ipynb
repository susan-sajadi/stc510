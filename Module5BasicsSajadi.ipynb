{
  "nbformat": 4,
  "nbformat_minor": 0,
  "metadata": {
    "colab": {
      "name": "Module5BasicsSajadi.ipynb",
      "provenance": [],
      "authorship_tag": "ABX9TyMMTaK7rk5JaYo9wBOMv1h6",
      "include_colab_link": true
    },
    "kernelspec": {
      "name": "python3",
      "display_name": "Python 3"
    }
  },
  "cells": [
    {
      "cell_type": "markdown",
      "metadata": {
        "id": "view-in-github",
        "colab_type": "text"
      },
      "source": [
        "<a href=\"https://colab.research.google.com/github/susan-sajadi/stc510/blob/master/Module5BasicsSajadi.ipynb\" target=\"_parent\"><img src=\"https://colab.research.google.com/assets/colab-badge.svg\" alt=\"Open In Colab\"/></a>"
      ]
    },
    {
      "cell_type": "markdown",
      "metadata": {
        "id": "zHQF5Lg4W0-o"
      },
      "source": [
        "\n",
        "Project: Parse, clean, and organize the Jeopardy! question data file to train a Naive Bayesian classifier.\n",
        "Pass the Text Analysis Basics quiz with a score of 85% or better.\n",
        "Just as we have built a classifier above, your aim here is to make sense of the data presented, and create a binary classifier (\"high value\" and \"low value,\" based on the points available for each) for questions. Despite the large number of questions, this is an extraordinarily difficult classification problem. Consider it as a human coder: how often could you tell those questions that are \"easy\" versus \"hard\"? The degree to which you are successful in this is largely based on your own contextual knowledge--indeed, you might be tempted to classify questions you know the answer to as \"easy\" and those you do not as \"hard.\" The computer doesn't know the answers to any of these.\n",
        "\n",
        "For that reason, do not be discouraged if your classifier does not perform well. This constitutes an especially difficult problem for a simple classifier to solve.\n",
        "\n",
        "Put the script and its output (which may merely report the accuracy of the trial) in your github repository, and share the link/filenames when you start your quiz."
      ]
    },
    {
      "cell_type": "code",
      "metadata": {
        "id": "v6jz76PMW64m"
      },
      "source": [
        "import pandas as pd\n",
        "import json\n",
        "import re\n",
        "from nltk import word_tokenize\n",
        "from nltk.corpus import stopwords\n",
        "from string import punctuation\n",
        "import os\n",
        "from sklearn.metrics import accuracy_score\n",
        "from sklearn.naive_bayes import MultinomialNB\n",
        "from sklearn.model_selection import train_test_split\n",
        "from sklearn.feature_extraction.text import TfidfVectorizer"
      ],
      "execution_count": 166,
      "outputs": []
    },
    {
      "cell_type": "code",
      "metadata": {
        "colab": {
          "base_uri": "https://localhost:8080/",
          "height": 204
        },
        "id": "GOVS80TbXhTQ",
        "outputId": "ef06388e-2557-4ef9-b95d-11fee5ff1b1e"
      },
      "source": [
        "transcripts = pd.read_json(\"/jeopardy.json\")\n",
        "transcripts.head()"
      ],
      "execution_count": 301,
      "outputs": [
        {
          "output_type": "execute_result",
          "data": {
            "text/html": [
              "<div>\n",
              "<style scoped>\n",
              "    .dataframe tbody tr th:only-of-type {\n",
              "        vertical-align: middle;\n",
              "    }\n",
              "\n",
              "    .dataframe tbody tr th {\n",
              "        vertical-align: top;\n",
              "    }\n",
              "\n",
              "    .dataframe thead th {\n",
              "        text-align: right;\n",
              "    }\n",
              "</style>\n",
              "<table border=\"1\" class=\"dataframe\">\n",
              "  <thead>\n",
              "    <tr style=\"text-align: right;\">\n",
              "      <th></th>\n",
              "      <th>category</th>\n",
              "      <th>air_date</th>\n",
              "      <th>question</th>\n",
              "      <th>value</th>\n",
              "      <th>answer</th>\n",
              "      <th>round</th>\n",
              "      <th>show_number</th>\n",
              "    </tr>\n",
              "  </thead>\n",
              "  <tbody>\n",
              "    <tr>\n",
              "      <th>0</th>\n",
              "      <td>HISTORY</td>\n",
              "      <td>2004-12-31</td>\n",
              "      <td>'For the last 8 years of his life, Galileo was...</td>\n",
              "      <td>$200</td>\n",
              "      <td>Copernicus</td>\n",
              "      <td>Jeopardy!</td>\n",
              "      <td>4680</td>\n",
              "    </tr>\n",
              "    <tr>\n",
              "      <th>1</th>\n",
              "      <td>ESPN's TOP 10 ALL-TIME ATHLETES</td>\n",
              "      <td>2004-12-31</td>\n",
              "      <td>'No. 2: 1912 Olympian; football star at Carlis...</td>\n",
              "      <td>$200</td>\n",
              "      <td>Jim Thorpe</td>\n",
              "      <td>Jeopardy!</td>\n",
              "      <td>4680</td>\n",
              "    </tr>\n",
              "    <tr>\n",
              "      <th>2</th>\n",
              "      <td>EVERYBODY TALKS ABOUT IT...</td>\n",
              "      <td>2004-12-31</td>\n",
              "      <td>'The city of Yuma in this state has a record a...</td>\n",
              "      <td>$200</td>\n",
              "      <td>Arizona</td>\n",
              "      <td>Jeopardy!</td>\n",
              "      <td>4680</td>\n",
              "    </tr>\n",
              "    <tr>\n",
              "      <th>3</th>\n",
              "      <td>THE COMPANY LINE</td>\n",
              "      <td>2004-12-31</td>\n",
              "      <td>'In 1963, live on \"The Art Linkletter Show\", t...</td>\n",
              "      <td>$200</td>\n",
              "      <td>McDonald\\'s</td>\n",
              "      <td>Jeopardy!</td>\n",
              "      <td>4680</td>\n",
              "    </tr>\n",
              "    <tr>\n",
              "      <th>4</th>\n",
              "      <td>EPITAPHS &amp; TRIBUTES</td>\n",
              "      <td>2004-12-31</td>\n",
              "      <td>'Signer of the Dec. of Indep., framer of the C...</td>\n",
              "      <td>$200</td>\n",
              "      <td>John Adams</td>\n",
              "      <td>Jeopardy!</td>\n",
              "      <td>4680</td>\n",
              "    </tr>\n",
              "  </tbody>\n",
              "</table>\n",
              "</div>"
            ],
            "text/plain": [
              "                          category    air_date  ...      round show_number\n",
              "0                          HISTORY  2004-12-31  ...  Jeopardy!        4680\n",
              "1  ESPN's TOP 10 ALL-TIME ATHLETES  2004-12-31  ...  Jeopardy!        4680\n",
              "2      EVERYBODY TALKS ABOUT IT...  2004-12-31  ...  Jeopardy!        4680\n",
              "3                 THE COMPANY LINE  2004-12-31  ...  Jeopardy!        4680\n",
              "4              EPITAPHS & TRIBUTES  2004-12-31  ...  Jeopardy!        4680\n",
              "\n",
              "[5 rows x 7 columns]"
            ]
          },
          "metadata": {
            "tags": []
          },
          "execution_count": 301
        }
      ]
    },
    {
      "cell_type": "markdown",
      "metadata": {
        "id": "lwEJVAkLmwjD"
      },
      "source": [
        "\n",
        "\n",
        "```\n",
        "# This is formatted as code\n",
        "```\n",
        "\n"
      ]
    },
    {
      "cell_type": "markdown",
      "metadata": {
        "id": "fM0OPasjD5i0"
      },
      "source": [
        ""
      ]
    },
    {
      "cell_type": "code",
      "metadata": {
        "colab": {
          "base_uri": "https://localhost:8080/"
        },
        "id": "hlH66ugon0xx",
        "outputId": "5667898e-5fd7-4756-d2cb-ebc9f9faf723"
      },
      "source": [
        "transcripts.info()\n",
        "print(transcripts.columns)\n"
      ],
      "execution_count": 302,
      "outputs": [
        {
          "output_type": "stream",
          "text": [
            "<class 'pandas.core.frame.DataFrame'>\n",
            "RangeIndex: 216930 entries, 0 to 216929\n",
            "Data columns (total 7 columns):\n",
            " #   Column       Non-Null Count   Dtype \n",
            "---  ------       --------------   ----- \n",
            " 0   category     216930 non-null  object\n",
            " 1   air_date     216930 non-null  object\n",
            " 2   question     216930 non-null  object\n",
            " 3   value        213296 non-null  object\n",
            " 4   answer       216930 non-null  object\n",
            " 5   round        216930 non-null  object\n",
            " 6   show_number  216930 non-null  int64 \n",
            "dtypes: int64(1), object(6)\n",
            "memory usage: 11.6+ MB\n",
            "Index(['category', 'air_date', 'question', 'value', 'answer', 'round',\n",
            "       'show_number'],\n",
            "      dtype='object')\n"
          ],
          "name": "stdout"
        }
      ]
    },
    {
      "cell_type": "markdown",
      "metadata": {
        "id": "iWCJZP8bm1Pv"
      },
      "source": [
        "Zooming into 1 column I see that there are tags for the monetary value. We are operating under the assumption that harder questions are worth more $$. We will assume then that questions 400 and 500 are hard, and 100 to 300 are easy. \n",
        "\n",
        "\n",
        "We need to remove dollars signs and commas from the values column so we can treat it like a string\n",
        "---\n",
        "\n"
      ]
    },
    {
      "cell_type": "code",
      "metadata": {
        "colab": {
          "base_uri": "https://localhost:8080/"
        },
        "id": "BOpRXMpdlIrC",
        "outputId": "f4e42033-c9f8-47f5-920e-2b610991630b"
      },
      "source": [
        "print(transcripts)\n",
        "transcripts = transcripts.mask(transcripts.eq('None')).dropna()\n",
        "transcripts['value'] = transcripts['value'].replace({'\\$':''}, regex = True)\n",
        "transcripts['value'] = transcripts['value'].replace({'\\,':''}, regex = True)\n",
        "print(transcripts)"
      ],
      "execution_count": 303,
      "outputs": [
        {
          "output_type": "stream",
          "text": [
            "                               category  ... show_number\n",
            "0                               HISTORY  ...        4680\n",
            "1       ESPN's TOP 10 ALL-TIME ATHLETES  ...        4680\n",
            "2           EVERYBODY TALKS ABOUT IT...  ...        4680\n",
            "3                      THE COMPANY LINE  ...        4680\n",
            "4                   EPITAPHS & TRIBUTES  ...        4680\n",
            "...                                 ...  ...         ...\n",
            "216925                   RIDDLE ME THIS  ...        4999\n",
            "216926                        \"T\" BIRDS  ...        4999\n",
            "216927           AUTHORS IN THEIR YOUTH  ...        4999\n",
            "216928                       QUOTATIONS  ...        4999\n",
            "216929                   HISTORIC NAMES  ...        4999\n",
            "\n",
            "[216930 rows x 7 columns]\n",
            "                               category  ... show_number\n",
            "0                               HISTORY  ...        4680\n",
            "1       ESPN's TOP 10 ALL-TIME ATHLETES  ...        4680\n",
            "2           EVERYBODY TALKS ABOUT IT...  ...        4680\n",
            "3                      THE COMPANY LINE  ...        4680\n",
            "4                   EPITAPHS & TRIBUTES  ...        4680\n",
            "...                                 ...  ...         ...\n",
            "216924                     OFF-BROADWAY  ...        4999\n",
            "216925                   RIDDLE ME THIS  ...        4999\n",
            "216926                        \"T\" BIRDS  ...        4999\n",
            "216927           AUTHORS IN THEIR YOUTH  ...        4999\n",
            "216928                       QUOTATIONS  ...        4999\n",
            "\n",
            "[213295 rows x 7 columns]\n"
          ],
          "name": "stdout"
        }
      ]
    },
    {
      "cell_type": "code",
      "metadata": {
        "colab": {
          "base_uri": "https://localhost:8080/"
        },
        "id": "yVe31XO84xHu",
        "outputId": "29bea4d1-b355-4aca-e831-1bb9d28697db"
      },
      "source": [
        "#sorted = transcripts.sort_values(by=['value'])\n",
        "easyqset = transcripts[transcripts['value'].astype(int) <= 350] \n",
        "easyqset['Test'] = 0\n",
        "hardqset = transcripts[transcripts['value'].astype(int) >= 351] \n",
        "hardqset['Test'] = 1\n",
        "# print(easyqset)\n",
        "combined = pd.concat([hardqset, easyqset])\n",
        "\n"
      ],
      "execution_count": 304,
      "outputs": [
        {
          "output_type": "stream",
          "text": [
            "/usr/local/lib/python3.6/dist-packages/ipykernel_launcher.py:3: SettingWithCopyWarning: \n",
            "A value is trying to be set on a copy of a slice from a DataFrame.\n",
            "Try using .loc[row_indexer,col_indexer] = value instead\n",
            "\n",
            "See the caveats in the documentation: https://pandas.pydata.org/pandas-docs/stable/user_guide/indexing.html#returning-a-view-versus-a-copy\n",
            "  This is separate from the ipykernel package so we can avoid doing imports until\n",
            "/usr/local/lib/python3.6/dist-packages/ipykernel_launcher.py:5: SettingWithCopyWarning: \n",
            "A value is trying to be set on a copy of a slice from a DataFrame.\n",
            "Try using .loc[row_indexer,col_indexer] = value instead\n",
            "\n",
            "See the caveats in the documentation: https://pandas.pydata.org/pandas-docs/stable/user_guide/indexing.html#returning-a-view-versus-a-copy\n",
            "  \"\"\"\n"
          ],
          "name": "stderr"
        }
      ]
    },
    {
      "cell_type": "markdown",
      "metadata": {
        "id": "Ak2XaSgYY57y"
      },
      "source": [
        "Now I have separated the two types of questions, and cleaned up any empty or none data. The 0 or 1 for hard or easy has been added. Now the data is ready to see how naive bayes will do in training/testing. "
      ]
    },
    {
      "cell_type": "code",
      "metadata": {
        "colab": {
          "base_uri": "https://localhost:8080/"
        },
        "id": "yxjqjzWfLQo8",
        "outputId": "a19948e3-5fcd-4f63-c441-8e25c4f0d24e"
      },
      "source": [
        "\n"
      ],
      "execution_count": 253,
      "outputs": [
        {
          "output_type": "stream",
          "text": [
            "IOPub data rate exceeded.\n",
            "The notebook server will temporarily stop sending output\n",
            "to the client in order to avoid crashing it.\n",
            "To change this limit, set the config variable\n",
            "`--NotebookApp.iopub_data_rate_limit`.\n",
            "\n",
            "Current values:\n",
            "NotebookApp.iopub_data_rate_limit=1000000.0 (bytes/sec)\n",
            "NotebookApp.rate_limit_window=3.0 (secs)\n",
            "\n"
          ],
          "name": "stderr"
        }
      ]
    },
    {
      "cell_type": "code",
      "metadata": {
        "id": "aZN-gzvkIVvD"
      },
      "source": [
        "X_train, X_test, y_train, y_test = train_test_split(transcripts.question, combined.Test, random_state=1)"
      ],
      "execution_count": 310,
      "outputs": []
    },
    {
      "cell_type": "code",
      "metadata": {
        "id": "5D6SHaoSJZOs"
      },
      "source": [
        "tfidf_vectorizer =TfidfVectorizer(use_idf=True)\n",
        "X_train_tf = tfidf_vectorizer.fit_transform(X_train)\n",
        "X_test_tf = tfidf_vectorizer.transform(X_test)\n"
      ],
      "execution_count": 315,
      "outputs": []
    },
    {
      "cell_type": "code",
      "metadata": {
        "id": "mHXCN-IkJq5g"
      },
      "source": [
        "naive_bayes = MultinomialNB()\n",
        "naive_bayes.fit(X_train_tf, y_train)\n",
        "predictions = naive_bayes.predict(X_test_tf)"
      ],
      "execution_count": 316,
      "outputs": []
    },
    {
      "cell_type": "code",
      "metadata": {
        "colab": {
          "base_uri": "https://localhost:8080/"
        },
        "id": "nYcvMX09J5H8",
        "outputId": "640a04a4-c894-4275-ac1b-3e0b7354f22b"
      },
      "source": [
        "print('Accuracy: ', accuracy_score(y_test, predictions))"
      ],
      "execution_count": 317,
      "outputs": [
        {
          "output_type": "stream",
          "text": [
            "Accuracy:  0.7752231640537094\n"
          ],
          "name": "stdout"
        }
      ]
    },
    {
      "cell_type": "markdown",
      "metadata": {
        "id": "wXDGUo88ZMqg"
      },
      "source": [
        "This is a better percentage than I was expecting honestly! How cool 😎 (unless I made a mistake that is giving me this false sense of accomplishment haha)"
      ]
    }
  ]
}