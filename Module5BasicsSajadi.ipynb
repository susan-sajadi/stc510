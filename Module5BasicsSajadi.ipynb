{
  "nbformat": 4,
  "nbformat_minor": 0,
  "metadata": {
    "colab": {
      "name": "Module5BasicsSajadi.ipynb",
      "provenance": [],
      "authorship_tag": "ABX9TyMmLk6ctPuxqKp5hafPl84M",
      "include_colab_link": true
    },
    "kernelspec": {
      "name": "python3",
      "display_name": "Python 3"
    }
  },
  "cells": [
    {
      "cell_type": "markdown",
      "metadata": {
        "id": "view-in-github",
        "colab_type": "text"
      },
      "source": [
        "<a href=\"https://colab.research.google.com/github/susan-sajadi/stc510/blob/master/Module5BasicsSajadi.ipynb\" target=\"_parent\"><img src=\"https://colab.research.google.com/assets/colab-badge.svg\" alt=\"Open In Colab\"/></a>"
      ]
    },
    {
      "cell_type": "markdown",
      "metadata": {
        "id": "zHQF5Lg4W0-o"
      },
      "source": [
        "\n",
        "Project: Parse, clean, and organize the Jeopardy! question data file to train a Naive Bayesian classifier.\n",
        "Pass the Text Analysis Basics quiz with a score of 85% or better.\n",
        "Just as we have built a classifier above, your aim here is to make sense of the data presented, and create a binary classifier (\"high value\" and \"low value,\" based on the points available for each) for questions. Despite the large number of questions, this is an extraordinarily difficult classification problem. Consider it as a human coder: how often could you tell those questions that are \"easy\" versus \"hard\"? The degree to which you are successful in this is largely based on your own contextual knowledge--indeed, you might be tempted to classify questions you know the answer to as \"easy\" and those you do not as \"hard.\" The computer doesn't know the answers to any of these.\n",
        "\n",
        "For that reason, do not be discouraged if your classifier does not perform well. This constitutes an especially difficult problem for a simple classifier to solve.\n",
        "\n",
        "Put the script and its output (which may merely report the accuracy of the trial) in your github repository, and share the link/filenames when you start your quiz."
      ]
    },
    {
      "cell_type": "code",
      "metadata": {
        "id": "v6jz76PMW64m"
      },
      "source": [
        "import pandas as pd\n",
        "import json\n",
        "import re\n",
        "from nltk import word_tokenize\n",
        "from nltk.corpus import stopwords\n",
        "from string import punctuation\n",
        "import os\n",
        "from sklearn.metrics import accuracy_score\n",
        "from sklearn.naive_bayes import MultinomialNB\n",
        "from sklearn.model_selection import train_test_split\n",
        "from sklearn.feature_extraction.text import TfidfVectorizer"
      ],
      "execution_count": 166,
      "outputs": []
    },
    {
      "cell_type": "code",
      "metadata": {
        "colab": {
          "base_uri": "https://localhost:8080/",
          "height": 204
        },
        "id": "GOVS80TbXhTQ",
        "outputId": "ef06388e-2557-4ef9-b95d-11fee5ff1b1e"
      },
      "source": [
        "transcripts = pd.read_json(\"/jeopardy.json\")\n",
        "transcripts.head()"
      ],
      "execution_count": 301,
      "outputs": [
        {
          "output_type": "execute_result",
          "data": {
            "text/html": [
              "<div>\n",
              "<style scoped>\n",
              "    .dataframe tbody tr th:only-of-type {\n",
              "        vertical-align: middle;\n",
              "    }\n",
              "\n",
              "    .dataframe tbody tr th {\n",
              "        vertical-align: top;\n",
              "    }\n",
              "\n",
              "    .dataframe thead th {\n",
              "        text-align: right;\n",
              "    }\n",
              "</style>\n",
              "<table border=\"1\" class=\"dataframe\">\n",
              "  <thead>\n",
              "    <tr style=\"text-align: right;\">\n",
              "      <th></th>\n",
              "      <th>category</th>\n",
              "      <th>air_date</th>\n",
              "      <th>question</th>\n",
              "      <th>value</th>\n",
              "      <th>answer</th>\n",
              "      <th>round</th>\n",
              "      <th>show_number</th>\n",
              "    </tr>\n",
              "  </thead>\n",
              "  <tbody>\n",
              "    <tr>\n",
              "      <th>0</th>\n",
              "      <td>HISTORY</td>\n",
              "      <td>2004-12-31</td>\n",
              "      <td>'For the last 8 years of his life, Galileo was...</td>\n",
              "      <td>$200</td>\n",
              "      <td>Copernicus</td>\n",
              "      <td>Jeopardy!</td>\n",
              "      <td>4680</td>\n",
              "    </tr>\n",
              "    <tr>\n",
              "      <th>1</th>\n",
              "      <td>ESPN's TOP 10 ALL-TIME ATHLETES</td>\n",
              "      <td>2004-12-31</td>\n",
              "      <td>'No. 2: 1912 Olympian; football star at Carlis...</td>\n",
              "      <td>$200</td>\n",
              "      <td>Jim Thorpe</td>\n",
              "      <td>Jeopardy!</td>\n",
              "      <td>4680</td>\n",
              "    </tr>\n",
              "    <tr>\n",
              "      <th>2</th>\n",
              "      <td>EVERYBODY TALKS ABOUT IT...</td>\n",
              "      <td>2004-12-31</td>\n",
              "      <td>'The city of Yuma in this state has a record a...</td>\n",
              "      <td>$200</td>\n",
              "      <td>Arizona</td>\n",
              "      <td>Jeopardy!</td>\n",
              "      <td>4680</td>\n",
              "    </tr>\n",
              "    <tr>\n",
              "      <th>3</th>\n",
              "      <td>THE COMPANY LINE</td>\n",
              "      <td>2004-12-31</td>\n",
              "      <td>'In 1963, live on \"The Art Linkletter Show\", t...</td>\n",
              "      <td>$200</td>\n",
              "      <td>McDonald\\'s</td>\n",
              "      <td>Jeopardy!</td>\n",
              "      <td>4680</td>\n",
              "    </tr>\n",
              "    <tr>\n",
              "      <th>4</th>\n",
              "      <td>EPITAPHS &amp; TRIBUTES</td>\n",
              "      <td>2004-12-31</td>\n",
              "      <td>'Signer of the Dec. of Indep., framer of the C...</td>\n",
              "      <td>$200</td>\n",
              "      <td>John Adams</td>\n",
              "      <td>Jeopardy!</td>\n",
              "      <td>4680</td>\n",
              "    </tr>\n",
              "  </tbody>\n",
              "</table>\n",
              "</div>"
            ],
            "text/plain": [
              "                          category    air_date  ...      round show_number\n",
              "0                          HISTORY  2004-12-31  ...  Jeopardy!        4680\n",
              "1  ESPN's TOP 10 ALL-TIME ATHLETES  2004-12-31  ...  Jeopardy!        4680\n",
              "2      EVERYBODY TALKS ABOUT IT...  2004-12-31  ...  Jeopardy!        4680\n",
              "3                 THE COMPANY LINE  2004-12-31  ...  Jeopardy!        4680\n",
              "4              EPITAPHS & TRIBUTES  2004-12-31  ...  Jeopardy!        4680\n",
              "\n",
              "[5 rows x 7 columns]"
            ]
          },
          "metadata": {
            "tags": []
          },
          "execution_count": 301
        }
      ]
    },
    {
      "cell_type": "markdown",
      "metadata": {
        "id": "lwEJVAkLmwjD"
      },
      "source": [
        "\n",
        "\n",
        "```\n",
        "# This is formatted as code\n",
        "```\n",
        "\n"
      ]
    },
    {
      "cell_type": "markdown",
      "metadata": {
        "id": "fM0OPasjD5i0"
      },
      "source": [
        ""
      ]
    },
    {
      "cell_type": "code",
      "metadata": {
        "colab": {
          "base_uri": "https://localhost:8080/",
          "height": 326
        },
        "id": "hlH66ugon0xx",
        "outputId": "1dffc4fd-66db-4563-d79c-3ddec4002012"
      },
      "source": [
        "transcripts.info()\n",
        "print(transcripts.columns)\n",
        "transcripts.value.max()"
      ],
      "execution_count": 340,
      "outputs": [
        {
          "output_type": "stream",
          "text": [
            "<class 'pandas.core.frame.DataFrame'>\n",
            "Int64Index: 213295 entries, 0 to 216928\n",
            "Data columns (total 7 columns):\n",
            " #   Column       Non-Null Count   Dtype \n",
            "---  ------       --------------   ----- \n",
            " 0   category     213295 non-null  object\n",
            " 1   air_date     213295 non-null  object\n",
            " 2   question     213295 non-null  object\n",
            " 3   value        213295 non-null  object\n",
            " 4   answer       213295 non-null  object\n",
            " 5   round        213295 non-null  object\n",
            " 6   show_number  213295 non-null  int64 \n",
            "dtypes: int64(1), object(6)\n",
            "memory usage: 13.0+ MB\n",
            "Index(['category', 'air_date', 'question', 'value', 'answer', 'round',\n",
            "       'show_number'],\n",
            "      dtype='object')\n"
          ],
          "name": "stdout"
        },
        {
          "output_type": "execute_result",
          "data": {
            "application/vnd.google.colaboratory.intrinsic+json": {
              "type": "string"
            },
            "text/plain": [
              "'9800'"
            ]
          },
          "metadata": {
            "tags": []
          },
          "execution_count": 340
        }
      ]
    },
    {
      "cell_type": "markdown",
      "metadata": {
        "id": "iWCJZP8bm1Pv"
      },
      "source": [
        "Zooming into 1 column I see that there are tags for the monetary value. We are operating under the assumption that harder questions are worth more $$. We will assume then that hard questions are over 500 dollars. \n",
        "\n",
        "\n",
        "We need to remove dollars signs and commas from the values column so we can treat it like a string\n",
        "---\n",
        "\n"
      ]
    },
    {
      "cell_type": "code",
      "metadata": {
        "colab": {
          "base_uri": "https://localhost:8080/"
        },
        "id": "BOpRXMpdlIrC",
        "outputId": "f4e42033-c9f8-47f5-920e-2b610991630b"
      },
      "source": [
        "print(transcripts)\n",
        "transcripts = transcripts.mask(transcripts.eq('None')).dropna()\n",
        "transcripts['value'] = transcripts['value'].replace({'\\$':''}, regex = True)\n",
        "transcripts['value'] = transcripts['value'].replace({'\\,':''}, regex = True)\n",
        "print(transcripts)"
      ],
      "execution_count": 303,
      "outputs": [
        {
          "output_type": "stream",
          "text": [
            "                               category  ... show_number\n",
            "0                               HISTORY  ...        4680\n",
            "1       ESPN's TOP 10 ALL-TIME ATHLETES  ...        4680\n",
            "2           EVERYBODY TALKS ABOUT IT...  ...        4680\n",
            "3                      THE COMPANY LINE  ...        4680\n",
            "4                   EPITAPHS & TRIBUTES  ...        4680\n",
            "...                                 ...  ...         ...\n",
            "216925                   RIDDLE ME THIS  ...        4999\n",
            "216926                        \"T\" BIRDS  ...        4999\n",
            "216927           AUTHORS IN THEIR YOUTH  ...        4999\n",
            "216928                       QUOTATIONS  ...        4999\n",
            "216929                   HISTORIC NAMES  ...        4999\n",
            "\n",
            "[216930 rows x 7 columns]\n",
            "                               category  ... show_number\n",
            "0                               HISTORY  ...        4680\n",
            "1       ESPN's TOP 10 ALL-TIME ATHLETES  ...        4680\n",
            "2           EVERYBODY TALKS ABOUT IT...  ...        4680\n",
            "3                      THE COMPANY LINE  ...        4680\n",
            "4                   EPITAPHS & TRIBUTES  ...        4680\n",
            "...                                 ...  ...         ...\n",
            "216924                     OFF-BROADWAY  ...        4999\n",
            "216925                   RIDDLE ME THIS  ...        4999\n",
            "216926                        \"T\" BIRDS  ...        4999\n",
            "216927           AUTHORS IN THEIR YOUTH  ...        4999\n",
            "216928                       QUOTATIONS  ...        4999\n",
            "\n",
            "[213295 rows x 7 columns]\n"
          ],
          "name": "stdout"
        }
      ]
    },
    {
      "cell_type": "markdown",
      "metadata": {
        "id": "_M1cddRVgp_S"
      },
      "source": [
        "I read the warning in chain indexing in the documentation. I don't see any overlap in the created lists with associated 0/1, so I believe this is not an issue. However, I am not sure if I am interpreting it correctly. "
      ]
    },
    {
      "cell_type": "code",
      "metadata": {
        "colab": {
          "base_uri": "https://localhost:8080/"
        },
        "id": "yVe31XO84xHu",
        "outputId": "450c7781-f97a-49c7-c4a3-697ce7720218"
      },
      "source": [
        "#sorted = transcripts.sort_values(by=['value'])\n",
        "easyqset = transcripts[transcripts['value'].astype(int) <= 350] \n",
        "easyqset['Test'] = 0\n",
        "print(easyqset)"
      ],
      "execution_count": 370,
      "outputs": [
        {
          "output_type": "stream",
          "text": [
            "                               category    air_date  ... show_number Test\n",
            "0                               HISTORY  2004-12-31  ...        4680    0\n",
            "1       ESPN's TOP 10 ALL-TIME ATHLETES  2004-12-31  ...        4680    0\n",
            "2           EVERYBODY TALKS ABOUT IT...  2004-12-31  ...        4680    0\n",
            "3                      THE COMPANY LINE  2004-12-31  ...        4680    0\n",
            "4                   EPITAPHS & TRIBUTES  2004-12-31  ...        4680    0\n",
            "...                                 ...         ...  ...         ...  ...\n",
            "216870             LOVE SONGS IN GERMAN  2006-05-11  ...        4999    0\n",
            "216871              FIRST IN OUR HEARTS  2006-05-11  ...        4999    0\n",
            "216872             IT'S NOT ALEX TREBEK  2006-05-11  ...        4999    0\n",
            "216873                   SCIENCE BRIEFS  2006-05-11  ...        4999    0\n",
            "216874                        RATED \"R\"  2006-05-11  ...        4999    0\n",
            "\n",
            "[48165 rows x 8 columns]\n"
          ],
          "name": "stdout"
        },
        {
          "output_type": "stream",
          "text": [
            "/usr/local/lib/python3.6/dist-packages/ipykernel_launcher.py:3: SettingWithCopyWarning: \n",
            "A value is trying to be set on a copy of a slice from a DataFrame.\n",
            "Try using .loc[row_indexer,col_indexer] = value instead\n",
            "\n",
            "See the caveats in the documentation: https://pandas.pydata.org/pandas-docs/stable/user_guide/indexing.html#returning-a-view-versus-a-copy\n",
            "  This is separate from the ipykernel package so we can avoid doing imports until\n"
          ],
          "name": "stderr"
        }
      ]
    },
    {
      "cell_type": "code",
      "metadata": {
        "colab": {
          "base_uri": "https://localhost:8080/"
        },
        "id": "klEMgMQHgTHi",
        "outputId": "c7103988-e104-438f-9e4c-b9f3639bcd73"
      },
      "source": [
        "hardqset = transcripts[transcripts['value'].astype(int) >= 351] \n",
        "hardqset['Test'] = 1\n",
        "print(hardqset)\n"
      ],
      "execution_count": 371,
      "outputs": [
        {
          "output_type": "stream",
          "text": [
            "                               category    air_date  ... show_number Test\n",
            "6                               HISTORY  2004-12-31  ...        4680    1\n",
            "7       ESPN's TOP 10 ALL-TIME ATHLETES  2004-12-31  ...        4680    1\n",
            "8           EVERYBODY TALKS ABOUT IT...  2004-12-31  ...        4680    1\n",
            "9                      THE COMPANY LINE  2004-12-31  ...        4680    1\n",
            "10                  EPITAPHS & TRIBUTES  2004-12-31  ...        4680    1\n",
            "...                                 ...         ...  ...         ...  ...\n",
            "216924                     OFF-BROADWAY  2006-05-11  ...        4999    1\n",
            "216925                   RIDDLE ME THIS  2006-05-11  ...        4999    1\n",
            "216926                        \"T\" BIRDS  2006-05-11  ...        4999    1\n",
            "216927           AUTHORS IN THEIR YOUTH  2006-05-11  ...        4999    1\n",
            "216928                       QUOTATIONS  2006-05-11  ...        4999    1\n",
            "\n",
            "[165130 rows x 8 columns]\n"
          ],
          "name": "stdout"
        },
        {
          "output_type": "stream",
          "text": [
            "/usr/local/lib/python3.6/dist-packages/ipykernel_launcher.py:2: SettingWithCopyWarning: \n",
            "A value is trying to be set on a copy of a slice from a DataFrame.\n",
            "Try using .loc[row_indexer,col_indexer] = value instead\n",
            "\n",
            "See the caveats in the documentation: https://pandas.pydata.org/pandas-docs/stable/user_guide/indexing.html#returning-a-view-versus-a-copy\n",
            "  \n"
          ],
          "name": "stderr"
        }
      ]
    },
    {
      "cell_type": "code",
      "metadata": {
        "colab": {
          "base_uri": "https://localhost:8080/"
        },
        "id": "I6q4PJRwgU4d",
        "outputId": "871af80b-f0db-437a-9ee4-d883a88a536d"
      },
      "source": [
        "combined = pd.concat([hardqset, easyqset])\n",
        "print(combined)"
      ],
      "execution_count": 368,
      "outputs": [
        {
          "output_type": "stream",
          "text": [
            "                               category    air_date  ... show_number Test\n",
            "6                               HISTORY  2004-12-31  ...        4680    1\n",
            "7       ESPN's TOP 10 ALL-TIME ATHLETES  2004-12-31  ...        4680    1\n",
            "8           EVERYBODY TALKS ABOUT IT...  2004-12-31  ...        4680    1\n",
            "9                      THE COMPANY LINE  2004-12-31  ...        4680    1\n",
            "10                  EPITAPHS & TRIBUTES  2004-12-31  ...        4680    1\n",
            "...                                 ...         ...  ...         ...  ...\n",
            "216870             LOVE SONGS IN GERMAN  2006-05-11  ...        4999    0\n",
            "216871              FIRST IN OUR HEARTS  2006-05-11  ...        4999    0\n",
            "216872             IT'S NOT ALEX TREBEK  2006-05-11  ...        4999    0\n",
            "216873                   SCIENCE BRIEFS  2006-05-11  ...        4999    0\n",
            "216874                        RATED \"R\"  2006-05-11  ...        4999    0\n",
            "\n",
            "[213295 rows x 8 columns]\n"
          ],
          "name": "stdout"
        }
      ]
    },
    {
      "cell_type": "markdown",
      "metadata": {
        "id": "Ak2XaSgYY57y"
      },
      "source": [
        "Now I have separated the two types of questions, and cleaned up any empty or none data. The 0 or 1 for hard or easy has been added. Now the data is ready to see how naive bayes will do in training/testing. "
      ]
    },
    {
      "cell_type": "code",
      "metadata": {
        "colab": {
          "base_uri": "https://localhost:8080/"
        },
        "id": "yxjqjzWfLQo8",
        "outputId": "a19948e3-5fcd-4f63-c441-8e25c4f0d24e"
      },
      "source": [
        "\n"
      ],
      "execution_count": 253,
      "outputs": [
        {
          "output_type": "stream",
          "text": [
            "IOPub data rate exceeded.\n",
            "The notebook server will temporarily stop sending output\n",
            "to the client in order to avoid crashing it.\n",
            "To change this limit, set the config variable\n",
            "`--NotebookApp.iopub_data_rate_limit`.\n",
            "\n",
            "Current values:\n",
            "NotebookApp.iopub_data_rate_limit=1000000.0 (bytes/sec)\n",
            "NotebookApp.rate_limit_window=3.0 (secs)\n",
            "\n"
          ],
          "name": "stderr"
        }
      ]
    },
    {
      "cell_type": "code",
      "metadata": {
        "id": "aZN-gzvkIVvD"
      },
      "source": [
        "X_train, X_test, y_train, y_test = train_test_split(combined.question, combined.Test, random_state=1)"
      ],
      "execution_count": 359,
      "outputs": []
    },
    {
      "cell_type": "code",
      "metadata": {
        "id": "5D6SHaoSJZOs"
      },
      "source": [
        "tfidf_vectorizer =TfidfVectorizer(use_idf=True)\n",
        "X_train_tf = tfidf_vectorizer.fit_transform(X_train)\n",
        "X_test_tf = tfidf_vectorizer.transform(X_test)\n"
      ],
      "execution_count": 360,
      "outputs": []
    },
    {
      "cell_type": "code",
      "metadata": {
        "id": "mHXCN-IkJq5g"
      },
      "source": [
        "naive_bayes = MultinomialNB()\n",
        "naive_bayes.fit(X_train_tf, y_train)\n",
        "predictions = naive_bayes.predict(X_test_tf)"
      ],
      "execution_count": 365,
      "outputs": []
    },
    {
      "cell_type": "code",
      "metadata": {
        "colab": {
          "base_uri": "https://localhost:8080/"
        },
        "id": "nYcvMX09J5H8",
        "outputId": "fd848895-9fba-405e-ecca-f5b92de5e1fc"
      },
      "source": [
        "print('Accuracy: ', accuracy_score(y_test, predictions))"
      ],
      "execution_count": 364,
      "outputs": [
        {
          "output_type": "stream",
          "text": [
            "Accuracy:  0.7750168779536419\n"
          ],
          "name": "stdout"
        }
      ]
    },
    {
      "cell_type": "markdown",
      "metadata": {
        "id": "wXDGUo88ZMqg"
      },
      "source": [
        "This is a better percentage than I was expecting honestly! How cool 😎 (unless I made a mistake that is giving me this false sense of accomplishment haha)"
      ]
    }
  ]
}